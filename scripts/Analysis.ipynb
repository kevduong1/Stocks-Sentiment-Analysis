{
 "cells": [
  {
   "cell_type": "code",
   "execution_count": 1,
   "id": "0b332ad0",
   "metadata": {},
   "outputs": [],
   "source": [
    "# Imports\n",
    "from TweetScraper import Scraper\n",
    "from AnalysisFunctions import *"
   ]
  },
  {
   "cell_type": "markdown",
   "id": "2db01ad3",
   "metadata": {},
   "source": [
    "# collecting data"
   ]
  },
  {
   "cell_type": "code",
   "execution_count": 2,
   "id": "b262fdbb",
   "metadata": {},
   "outputs": [],
   "source": [
    "stocks_list = [\"TSLA\",\"AAPL\",\"NFLX\", \"GME\", \"AMC\", \"RBLX\"]\n",
    "\n",
    "stock_dict = {}\n",
    "\n",
    "num_pages = 2\n",
    "\n",
    "for ticker in stocks_list:\n",
    "    stock_dict[ticker] = Scraper(ticker, num_pages)"
   ]
  },
  {
   "cell_type": "markdown",
   "id": "99360558",
   "metadata": {},
   "source": [
    "# Analyzing Data"
   ]
  },
  {
   "cell_type": "code",
   "execution_count": 3,
   "id": "0be5a79b",
   "metadata": {},
   "outputs": [
    {
     "name": "stdout",
     "output_type": "stream",
     "text": [
      "... saving TSLA wordcloud to ./wordclouds/TSLA.png\n",
      "... saving AAPL wordcloud to ./wordclouds/AAPL.png\n",
      "... saving NFLX wordcloud to ./wordclouds/NFLX.png\n",
      "... saving GME wordcloud to ./wordclouds/GME.png\n",
      "... saving AMC wordcloud to ./wordclouds/AMC.png\n",
      "... saving RBLX wordcloud to ./wordclouds/RBLX.png\n"
     ]
    }
   ],
   "source": [
    "# dict of tweets categorized by sentiments. Returns tuple (positive_tweets, negative_tweets, neutral_tweets)\n",
    "grouped_tweets = {}\n",
    "overall_sentiments = {}\n",
    "freq_words = {}\n",
    "\n",
    "\n",
    "for ticker in stocks_list:\n",
    "    grouped_tweets[ticker] = vader_sentiment_categorized(stock_dict[ticker].get())\n",
    "    overall_sentiments[ticker] = vader_overall(stock_dict[ticker].get())\n",
    "    freq_words[ticker] = popular_words(stock_dict[ticker].get())\n",
    "    print(f\"... saving {ticker} wordcloud to ./wordclouds/{ticker}.png\")\n",
    "    make_wordcloud(stock_dict[ticker].get(),ticker)"
   ]
  },
  {
   "cell_type": "code",
   "execution_count": 4,
   "id": "749a25a3",
   "metadata": {},
   "outputs": [
    {
     "name": "stdout",
     "output_type": "stream",
     "text": [
      "Number of positve tweets for tsla: 31\n",
      "Number of negative tweets for tsla: 11\n",
      "overall sentiment of NFLX: 0.07866960000000002\n",
      "Top 20 words for GME\n",
      "[('gme', 38), ('amc', 16), ('dividend', 4), ('may', 4), ('look', 4), ('like', 4), ('share', 4), ('lrc', 4), ('stock', 3), ('short', 3), ('gamestop', 3), ('superstonk', 3), ('moa', 3), ('still', 3), ('back', 3), ('shit', 3), ('u', 3), ('get', 3), ('mother', 3), ('hymc', 3)]\n"
     ]
    }
   ],
   "source": [
    "# use case example\n",
    "print(f\"Number of positve tweets for tsla: {len(grouped_tweets['TSLA'][0])}\")\n",
    "print(f\"Number of negative tweets for tsla: {len(grouped_tweets['TSLA'][1])}\")\n",
    "\n",
    "print(f\"overall sentiment of NFLX: {overall_sentiments['NFLX']}\")\n",
    "\n",
    "print(\"Top 20 words for GME\")\n",
    "print(freq_words[\"GME\"].most_common(20))\n"
   ]
  },
  {
   "cell_type": "markdown",
   "id": "e85a0668",
   "metadata": {},
   "source": [
    "# Comparing sentiments of all stocks"
   ]
  },
  {
   "cell_type": "code",
   "execution_count": null,
   "id": "3844b18d",
   "metadata": {},
   "outputs": [],
   "source": []
  }
 ],
 "metadata": {
  "kernelspec": {
   "display_name": "Python 3 (ipykernel)",
   "language": "python",
   "name": "python3"
  },
  "language_info": {
   "codemirror_mode": {
    "name": "ipython",
    "version": 3
   },
   "file_extension": ".py",
   "mimetype": "text/x-python",
   "name": "python",
   "nbconvert_exporter": "python",
   "pygments_lexer": "ipython3",
   "version": "3.9.7"
  }
 },
 "nbformat": 4,
 "nbformat_minor": 5
}
