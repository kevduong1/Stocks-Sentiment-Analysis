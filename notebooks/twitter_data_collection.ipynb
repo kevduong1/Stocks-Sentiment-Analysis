{
 "cells": [
  {
   "cell_type": "code",
   "execution_count": 4,
   "id": "03c82980",
   "metadata": {},
   "outputs": [
    {
     "name": "stdout",
     "output_type": "stream",
     "text": [
      "Collecting tweepy\n",
      "  Downloading tweepy-4.9.0-py3-none-any.whl (77 kB)\n",
      "Collecting oauthlib<4,>=3.2.0\n",
      "  Downloading oauthlib-3.2.0-py3-none-any.whl (151 kB)\n",
      "Collecting requests<3,>=2.27.0\n",
      "  Using cached requests-2.27.1-py2.py3-none-any.whl (63 kB)\n",
      "Collecting requests-oauthlib<2,>=1.2.0\n",
      "  Downloading requests_oauthlib-1.3.1-py2.py3-none-any.whl (23 kB)\n",
      "Requirement already satisfied: urllib3<1.27,>=1.21.1 in c:\\users\\kevdu\\anaconda3\\lib\\site-packages (from requests<3,>=2.27.0->tweepy) (1.26.7)\n",
      "Requirement already satisfied: idna<4,>=2.5 in c:\\users\\kevdu\\anaconda3\\lib\\site-packages (from requests<3,>=2.27.0->tweepy) (3.2)\n",
      "Requirement already satisfied: certifi>=2017.4.17 in c:\\users\\kevdu\\anaconda3\\lib\\site-packages (from requests<3,>=2.27.0->tweepy) (2021.10.8)\n",
      "Requirement already satisfied: charset-normalizer~=2.0.0 in c:\\users\\kevdu\\anaconda3\\lib\\site-packages (from requests<3,>=2.27.0->tweepy) (2.0.4)\n",
      "Installing collected packages: requests, oauthlib, requests-oauthlib, tweepy\n",
      "  Attempting uninstall: requests\n",
      "    Found existing installation: requests 2.26.0\n",
      "    Uninstalling requests-2.26.0:\n",
      "      Successfully uninstalled requests-2.26.0\n",
      "Successfully installed oauthlib-3.2.0 requests-2.27.1 requests-oauthlib-1.3.1 tweepy-4.9.0\n"
     ]
    },
    {
     "name": "stderr",
     "output_type": "stream",
     "text": [
      "ERROR: pip's dependency resolver does not currently take into account all the packages that are installed. This behaviour is the source of the following dependency conflicts.\n",
      "conda-repo-cli 1.0.4 requires pathlib, which is not installed.\n",
      "anaconda-project 0.10.1 requires ruamel-yaml, which is not installed.\n"
     ]
    }
   ],
   "source": [
    "#!pip install yahoo-fin\n",
    "!pip install tweepy"
   ]
  },
  {
   "cell_type": "markdown",
   "id": "3321b901",
   "metadata": {},
   "source": [
    "#### imports"
   ]
  },
  {
   "cell_type": "code",
   "execution_count": 5,
   "id": "e304c106",
   "metadata": {},
   "outputs": [],
   "source": [
    "from yahoo_fin import stock_info as si\n",
    "import tweepy\n",
    "import pandas as pd\n",
    "from nltk.stem import WordNetLemmatizer\n",
    "from nltk.corpus import stopwords\n",
    "import re"
   ]
  },
  {
   "cell_type": "code",
   "execution_count": 6,
   "id": "db693029",
   "metadata": {},
   "outputs": [],
   "source": [
    "ticker_symbols = si.tickers_sp500()"
   ]
  },
  {
   "cell_type": "markdown",
   "id": "067839d1",
   "metadata": {},
   "source": [
    "## Scraper Class:\n",
    "\n",
    "#### Constructor takes 2 arguments\n",
    "1. (string) : Stock ticker symbol\n",
    "2.  (int)   : Number of pages to scrape from twitter (each page returns 100 tweets, may include retweets)\n",
    "\n",
    "#### get_tweets() method\n",
    "returns tweets\n"
   ]
  },
  {
   "cell_type": "code",
   "execution_count": 57,
   "id": "d519e065",
   "metadata": {},
   "outputs": [],
   "source": [
    "client = tweepy.Client(bearer_token=\"AAAAAAAAAAAAAAAAAAAAAJufYQEAAAAAKav7aNECQA0fFGEwRJ9Xre6x5uo%3Db1ceEnW5RwZTqNlXKInTamgCMDKJabKBafw6H2tUKY0qqruZby\")\n",
    "lemmatizer = WordNetLemmatizer()\n",
    "\n",
    "# Class object for scrapping\n",
    "class Scraper:\n",
    "    def __init__(self, stock_ticker,pages ):\n",
    "        self.ticker = stock_ticker\n",
    "        self.data = []\n",
    "        # Filling page results\n",
    "        self.__scrape_pages(None, pages, self.data)\n",
    "        self.__get_text()\n",
    "\n",
    "    def __scrape_pages(self, nextToken, pages, responses):\n",
    "        if pages == 0:\n",
    "            return\n",
    "        query = f\"#{self.ticker} lang:en\"\n",
    "        tweets = client.search_recent_tweets(query=query,\n",
    "                                         tweet_fields = [\"text\", \"public_metrics\"],\n",
    "                                         max_results = 100,\n",
    "                                         expansions='author_id',\n",
    "                                         next_token=nextToken\n",
    "                                         )\n",
    "        responses.extend(tweets.data)\n",
    "        # recursive call\n",
    "        self.__scrape_pages(tweets[3]['next_token'], pages - 1, responses)\n",
    "        \n",
    "        \n",
    "    def __get_text(self):\n",
    "        text = []\n",
    "        for data in self.data:\n",
    "            text.append(data.text)\n",
    "        self.data = text\n",
    "        \n",
    "        \n",
    "    def __clean_text(self, data):    \n",
    "        extra_stop = set(())\n",
    "        stoplist = set(stopwords.words('english')) | extra_stop\n",
    "\n",
    "\n",
    "        cleaned_data = data.copy()\n",
    "        # Remove Mentions\n",
    "        cleaned_data = [(\" \".join(filter(lambda x:x[0]!='@', tweet.split()))) for tweet in cleaned_data]\n",
    "        # Remove HTTPS\n",
    "        cleaned_data = [(re.sub(r'http\\S+', '', tweet)) for tweet in cleaned_data]\n",
    "        # Remove Special Chars\n",
    "        cleaned_data = [re.sub(\"[^a-zA-Z]+\", \" \", tweet) for tweet in cleaned_data]\n",
    "        # Remove Stop Words\n",
    "\n",
    "        cleaned_data = [[lemmatizer.lemmatize(word) for word in tweet.lower().split() if word not in stoplist and len(word) > 1]\n",
    "                           for tweet in cleaned_data]\n",
    "\n",
    "        cleaned_data = [\" \".join(word) for word in cleaned_data]\n",
    "\n",
    "        return cleaned_data        \n",
    "\n",
    "    \n",
    "    def get(self, no_retweets=True, clean_data=True):\n",
    "        if no_retweets:\n",
    "            temp_data = []\n",
    "            for data in self.data:\n",
    "                if \"RT @\" not in data:\n",
    "                    temp_data.append(data)\n",
    "        else:\n",
    "            temp_data = self.data\n",
    "            \n",
    "        \n",
    "        if clean_data:\n",
    "            temp_data = self.__clean_text(temp_data)\n",
    "        \n",
    "        \n",
    "        return temp_data\n",
    "        "
   ]
  },
  {
   "cell_type": "code",
   "execution_count": 58,
   "id": "8df0dfcf",
   "metadata": {},
   "outputs": [],
   "source": [
    "def clean_text(data):\n",
    "    \n",
    "    extra_stop = set(())\n",
    "    stoplist = set(stopwords.words('english')) | extra_stop\n",
    "    \n",
    "    \n",
    "    cleaned_data = data.copy()\n",
    "    # Remove Mentions\n",
    "    cleaned_data = [(\" \".join(filter(lambda x:x[0]!='@', tweet.split()))) for tweet in cleaned_data]\n",
    "    # Remove HTTPS\n",
    "    cleaned_data = [(re.sub(r'http\\S+', '', tweet)) for tweet in cleaned_data]\n",
    "    # Remove Special Chars\n",
    "    cleaned_data = [re.sub(\"[^a-zA-Z]+\", \" \", tweet) for tweet in cleaned_data]\n",
    "    # Remove Stop Words\n",
    "    cleaned_data = [[lemmatizer.lemmatize(word) for word in tweet.lower().split() if word not in stoplist and len(word) > 1]\n",
    "                       for tweet in cleaned_data]\n",
    "    \n",
    "    cleaned_data = [\" \".join(word) for word in cleaned_data]\n",
    "    \n",
    "    return cleaned_data"
   ]
  },
  {
   "cell_type": "code",
   "execution_count": 59,
   "id": "17f5b5d7",
   "metadata": {},
   "outputs": [],
   "source": [
    "tesla_Scrapper = Scraper(\"VISA\", 2)\n",
    "#apple_Scrapper = Scraper(\"APPLE\", 2)"
   ]
  },
  {
   "cell_type": "code",
   "execution_count": 1,
   "id": "1dbd6e69",
   "metadata": {},
   "outputs": [],
   "source": [
    "#print(tesla_Scrapper.get())"
   ]
  },
  {
   "cell_type": "code",
   "execution_count": 61,
   "id": "f5b10ab8",
   "metadata": {},
   "outputs": [
    {
     "name": "stdout",
     "output_type": "stream",
     "text": [
      "['#Summary\\n#HomesForUkraine/#UkraineSponsorshipScheme\\n#HFU #USS 🏠🇺🇦🇬🇧\\nTo #May3 \\n[with my \"#visa #fairness/#share on the yellow background]\\n\\nsources:\\nhttps://t.co/AQUoxtiGyD\\nhttps://t.co/qnk3OECjLs https://t.co/vDmR0zMkUu', 'ETH Transactions Spiked 4.5x Surpassing Visa Payments in 2021\\n\\n#Digital_Payment #ETH  #Ethereum  #visa  #TheNewsCrypto #CryptoNews \\n\\nhttps://t.co/jRlFUfnDEh', '𝐍𝐞𝐰 𝐄𝐁-𝟓 𝐫𝐮𝐥𝐞𝐬 𝐫𝐞𝐪𝐮𝐢𝐫𝐞 𝐞𝐱𝐢𝐬𝐭𝐢𝐧𝐠 𝐑𝐞𝐠𝐢𝐨𝐧𝐚𝐥 𝐂𝐞𝐧𝐭𝐞𝐫𝐬 𝐭𝐨 𝐬𝐞𝐞𝐤 𝐑𝐞𝐜𝐞𝐫𝐭𝐢𝐟𝐢𝐜𝐚𝐭𝐢𝐨𝐧\\n\\n#UnitedStates #BusinessOwner #talent #USA #visa #immigration #travel #India #GreenCard #COVID19 #business #coronavirus #pandemic #legal #spring https://t.co/OKR08ikrhk', '#Visa Fear and Greed Index is currently 35 - FEAR\\n\\n24h technical analysis index: 29 - STRONG SELL\\nRelative Strength Index #RSI: 23\\nCurrent #V price is 205.248936579803 usd\\n\\nLive analysis for $V and other top 100 #stocks on the #stockmarket https://t.co/60MvwI9WeO', 'art for the eyes! https://t.co/K7o9p99xBY #monumentvalley #arizona #landscapelovers #picoftheday #naturelovers #amex #visa #artlovers https://t.co/oy6KUALbC1', '@Indeed_India Unable to use your portal, really frustrating, none of my VISA card is getting validated on your employer portal, stuck from 7+ days, change your payment gateway  #FAIL #visa #MasterCard #payments  #employer https://t.co/YzgAbMEQm3', '#Ukraine #Refugee #War #Visa #Summary\\n14-20Apr\\nUFS: 1100 (157 /day)\\nHFU: 14200 (2029 /day)👍\\n21-27Apr\\n#UFS 2400 (343 /day)\\n#HFU 12000 (1714 /day)👍\\n28Apr-5May\\nUFS: 1400 (175 /day)🙄\\nHFU: 7800 (975 /day)\\n\\nIn #UK 3May\\nFrom 4 Mar UFS: 293 /day😬⬇️\\nFrom 18 Mar HFU: 414 /day⬆️', 'Travel visa free to these destinations!✈️\\nOnly your green passport is needed.✌🏾\\n\\nContact us today for your travelling needs°🙏🏾\\nTo Book Call/DM;☎️\\n09155569991\\n08155053000\\n08155054000\\n#passport #travel #visa #tours https://t.co/rVWcDtMc2O', 'Travel visa free to these destinations!✈️\\nOnly your green passport is needed.✌🏾\\n\\nContact us today for your travelling needs°🙏🏾\\nTo Book Call/DM;☎️\\n09155569991\\n08155053000\\n08155054000\\n#passport #travel #visa #tours', 'Get ready for Study in UK. \\nApply today and grab attractive scholarship. \\n\\nPh: 7201017700\\nB 303 to 305 Amrapali Lakeview Tower, Nr Ahmedabad One Mall, Vastrapur, Ahmedabad 380015\\n\\n#availscholarship #scholarship\\n#coaching #IELTSClass #score #bands #visa #student #studyabroad https://t.co/jX18ouQPko', 'As more passengers in India look to take advantage of commercial #InternationalFlights being restored from the end of March, visa processing firms are starting to feel the pressure of rising visa applications from customers.\\n\\nRead 👇\\nhttps://t.co/b5mOS8Z6yw\\n\\nby @Yaruqh_K | #Visa', 'Did you know?\\n.\\n.\\n.\\n#fridayfacts #funfacts #friday #fridayfeelings #canada #canadapr #visa #immigration #migration #visaconsultancy #apexvisas https://t.co/OKJtYigYE5', 'Confused by the official government website? Find all important information on the ETA of Sri Lanka and an online application form summarized on one page on https://t.co/N1yt4nWa3l\\n#Srilanka #visa #visaapplication #entry #travel #eta', 'Did you know?\\n.\\n.\\n.\\n#fridayfacts #funfacts #friday #fridayfeelings #canada #canadapr #visa #immigration #migration #visaconsultancy #apexvisas https://t.co/e2mTwKuZeP', 'GET YOUR UAE VISA \\n30 DAYS WITH TRAVEL INSURANCE AT USD 100\\n\\nVISA REQUIREMENT \\n✅SCAN PASSPORT COPY AND BACK\\n\\n✈️✈️✈️✈️✈️✈️✈️✈️✈️✈️\\n\\nSamrajya Travels\\nThe Perfect Partner of Your Trip\\n\\nBook Your Dubai Tour With us and Get Exciting Prices. \\n\\n=\\n#dubaivisa #visa #getyouruaevisa https://t.co/axZYYOBPLu', 'TGIF!!!\\nCall us on 012292936/09030349308, visit https://t.co/EpBcTytO9C or chat with an agent now on https://t.co/POvLesPI5h.\\n\\n#TGIF #education #travel #loans #finance #coolbucks #smartmoney #loanservices #visa #traveling #passport #funding #scholarship2022 #scholarship #school https://t.co/vN7vyVbZeX', 'Indians studying in #Canada have a better chance for obtaining permanent residence in the country, shows recent data.\\n\\nWhatsApp us@ https://t.co/DWiaCjZIhP\\n\\nContact #Canapprove \\n\\n#canadaimmigration #immigration #canadavisa #expressentry #canadapr #visa  \\nhttps://t.co/bnlkIjQcb5', '🇨🇦Received #canada #study #visa 🇨🇦 #uk #Australia #USA https://t.co/Wqq3qeNBh7', 'New Zealand to reopen its borders to international students from October 2022!\\n\\n#immivoyage #visaconsulting \\n#VISA #Immigration #NewZealandVisa #consultant #visaconsultancy #visaservices #immigrationnews https://t.co/N8t4lQJt9n', 'We congratulate Mr. Kishankumar Patel &amp; Ms. Heral Patel for getting Canada PR visa approval.\\n\\nVisit our website:\\nhttps://t.co/D7OjxUBILn\\n\\nContact us:\\nAbu Dhabi: +971 581 992 545\\nDubai: +971 0581992543\\n\\n #canada #VISA #PR#VisaConsultant #visacanada #immigrationcanada #PRCanada https://t.co/bKrRHp2OcR', '#Visa Fear and Greed Index is currently 35 - FEAR\\n\\n24h technical analysis index: 29 - STRONG SELL\\nRelative Strength Index #RSI: 23\\nCurrent #V price is 205.241618481335 usd\\n\\nLive analysis for $V and other top 100 #stocks on the #stockmarket https://t.co/gQRUjT7ebO', \"@Naija_PR Looking for proof of funds to help achieve your dream of studying abroad?\\nWe are here to help. It's easy and simple with good rates and it's disbursed within 48 hours.\\nContact us now.\\n#proofoffund #visarequirements #admissionrequirements #educationalsupport #visa https://t.co/SDSeZks9I7\", \"Looking for proof of funds to help achieve your dream of studying abroad?\\nWe are here to help. It's easy and simple with good rates and it's disbursed within 48 hours.\\nContact us now.\\n#proofoffund #visarequirements #admissionrequirements #fundingopportunity #education #visa https://t.co/XmlVAohGea\", 'For more information \\nCall or WhatsApp:03320605\\nPhone:+961 (1) 370272/3\\n\\n#visaprocessing #Visa #lebanon #تاشيرات #ksa #alsalehtravel #beirut #السعودية #لبنان #بيروت #Egypt #Turkey #tickets #ticketing #tourism #visas #hotel_reservation #syrie https://t.co/ubx0h84q5C', '#Keesingnews: Japan &amp; Singapore have held onto their position as the world’s most #travel-friendly #passports offering access to 192 countries each!\\n\\nCurious to know which country you can enter without a #visa? Select your passport in the #Henley index &gt;&gt; https://t.co/HaZcccQ44b https://t.co/U71f4t0Jkc', \"#Ethereum's 2021 transactions significantly exceed those of #visa https://t.co/lRdBIthGaG\", 'For your Visa Enquiries; Visa check, Travel information for all countries, Visa application, Passport application, flight bookings and Travel charter. \\nhttps://t.co/NKmLf7Qjy3\\n\\n#visa #ivisa #flights #bookingservice #sugartainmentglobal #visaprocessing #traveling', 'Biggest Draw in Ontario!!!\\n#canadavisa #canada #canadaimmigration #immigration #studyincanada #studyabroad #visa #ielts #canadapr #studentvisa #studyvisa #expressentry #immigrationconsultant #workpermit #visaconsultants #immigrationcanada #usa #pnp #australia #ukvisa https://t.co/VGG8C7aytj', 'How to apply for a student visa and what additional documents might the embassy request? They might ask for more evidence… \\n\\nhttps://t.co/eFYkcDa9HX\\n\\n#scholarship, #education, #visa, #studyabroad, #travel, #tourism', 'We congratulate Mr. Kishankumar Patel &amp; Ms. Heral Patel for getting Canada PR visa approval.\\n\\nWe wish them luck in their future in CANADA.\\n\\nContact Us: +91 70 963 963 00\\n\\nVisit our website:\\nhttps://t.co/zpB1qxyAOE\\n\\n #Canada #VISA #PPR #studyincanada #canadapr #PR #Ahmedabad https://t.co/mtaNOSdmnD', 'Did you know health at work facts for a better health and efficient work environment.\\nThink Jobs....Think ADI\\nhttps://t.co/DvJg6SXM0K\\n\\n#ITStaffoutsourcing #staffaugmentation #visa #workpermitthailand #payrol https://t.co/dCrrQXPsJz', 'Getting a visa just got easier! Apply for a UAE visa online in 1 Call ✅\\n📞 Contact us for more information!\\n\\n📲 Call: +971 56 873 0971\\n\\n#VISA #visa #visalia #visavis #visavis4 #visavis3 #visaodecria #visaapproval #visakhapatnam #visaconsultnts #dubai #dubaï #dubaivisa #dubaimall https://t.co/VgDdbO9jjZ', 'Avail up to 30% #Discount on #Careem #food orders using #ABL #VISA #Premium &amp; #Platinum Cards.\\n\\nOffer is valid Nationwide till June 30th, 2022.\\nT&amp;Cs apply.\\n\\nFor details visit, https://t.co/ka1F5K7YE7 https://t.co/8E7Svb1Cmg', 'Thinking about studying overseas? Then Ramsons will help you!\\nRamsons  is here to help you achieve your study abroad dreams with clarity and confidence\\n#studyabroad #visa #CONSULTANTS #USA  #StudyinAustralia  #HigherStudy #HigherEducation\\n#IELTS https://t.co/B8k2HLOA8t', 'FUN FACT: #Ethereum processed 4.5x times more transactions than #Visa in 2021. By @WatcherGuru', 'Avail Mobile Biometric services for your Spain Visa at your convenience with BLS. Apply Now!\\n\\n#mobile #mobilebiometric #spain #VISA #visaservices #BLS #BLSMobileBiometric https://t.co/DtmqI1lqSc', 'A Dubai Property is a Ticket to a Resident Visa.\\nhttps://t.co/rAWs5LFJOd\\n\\n#Dubai  #residencevisa #visa  #uaevisa #dubaivisa #property  #RealEstate https://t.co/84bc05VTDn', 'Congratulations 🎊 Rupinder Kaur. She got her Australia Student Visa 🤩\\n\\nhttps://t.co/4C8lDCLvbB means #studyvisa ki guarantee 💯\\n\\n#Australia Student Visa Specialist\\n\\nExplore your visa options:-\\n🤙 77173-09571\\n🤙 99152-16900\\n\\n#success #story #visa https://t.co/by4vq4S0eQ', \"@DeepKalraMMT @Rajesh_Magow @yuvarajsri @makemytrip Your Visa Team keeps on lingering on &amp; doesn't reply to customer emails &amp; Cals &amp; does fake promises &amp; harasse them. I gues you shld make this right asap @PMOIndia @tourismgoi #MMT #complaint #PMOIndia #aviation #visa @MIB_India\", '#borderreopening #tokyo #japan #visaphoto #visa #45x45photo #COVID\\nJapan will allow tourist groups, starting in May.\\nThe country is set to experiment with opening its borders to small groups of vaccinated foreign tourists.\\nTake a #Japanvisa photo:\\nhttps://t.co/7bqnaREwmU https://t.co/LJrsl4jYQ4', 'How can you travel to the Schengen area without needing to apply for a Schengen Visa? Spouses, parents and children below the… \\n\\nhttps://t.co/cvDMKufGYN\\n\\n#studyabroad, #visa, #scholarship, #travel, #tourism, #education', 'WIREX! Open your account today and we’ll give you both some free crypto as a reward! Best crypto #Visa card! #BITCOIN Use NOW my #referral #code for a #Wirex card! https://t.co/XDSCzcEp4V #crypto #cryptocurrency #trading #exchange', 'Know more about #Scholarships  🤩🌟  #VISA 🛃 Application process about studying in #Ireland \\n\\nReach us here 🇮🇪 https://t.co/MxPIp8DWYx or DM us \\n✉️ for queries https://t.co/HS9MdmiWu5', 'Travel the world more easily with AEG.\\n\\nFor details contact now at 111 786 111 | https://t.co/ySenrmWeXn\\n\\n#Travelpartner #AEG #TravelManagement #Visa #Retail #Travel #Corporate #Businesstravel #Businesstrip #VisaService https://t.co/JLfwHw2p8k', 'Free Study in Germany | Germany visa | Study in Germany | Best consultant for Germany | Crown Immigration\\n\\n#Germany #Visa #Immigration #Consultant https://t.co/fu2MWwy0Yc', 'Free Crypto Coins Tips : South Korean internet giant Naver reportedly joins Bithumb stake race  #freecryptocoinstips #bitcoin #visa #cryptocurrencies #business #internet https://t.co/WkUoZSEt8X', 'UK Health and Care Worker #visa allows #medical #professionals to come to or stay in the #uk to do an eligible #job with the #nhs , an NHS supplier or in adult social care. Visit Link for details…\\n\\nhttps://t.co/rkszILDMkP\\n\\n#visalobby #immigration #work #healthcare #citizenship https://t.co/oQ5nxsdSNv', \"Get a degree that's internationally recognized by top employers today.\\nFor assistance with course selection and university, call us 0724 333 22 or email us info@optionseducation.net.\\n\\n#StudyinAustralia #studyabroad #education #VISA #visaapplication #visaservices https://t.co/jBLOGv2iIv\", 'Manitoba invited 315 immigration candidates for a provincial nomination On May 05,2022. These candidates can apply through the Manitoba Provincial Nominee Program (MPNP). \\nCall us for FREE Counseling:+91-9871383058\\n#immigration #prvisa #visanews #canadaprvisa #pnp #ircc #visa https://t.co/vbbQQzkRfw', 'Remote Work Visa\\n\\n🇲🇽 Mexico\\n\\nRequirements:\\n\\n- Work self employed, or for a company not based in Mexico\\n- Earn at least $1,800 per month\\n- Provide proof of a bank balance of at least $27,000\\n\\n#remotejobs #workfromanywhere #remotework #digitalnomad #visa #FutureOfWork https://t.co/BJPrA9kilq', 'Read the latest #Visa stock report for our fiscal 2023 revenue and earnings estimates. https://t.co/KzzkoQ8OfX $V https://t.co/iOpCAfIgbo', 'Will everything go according to your expectations? When things don’t turn out how you expected and the university that you really wanted to… \\n\\nhttps://t.co/yAwCwQcd0d\\n\\n#scholarship, #education, #travel, #studies, #tourism, #visa', '🧐Do You Know What Are the Requirements to Apply for a Temporary Work Permit in UAE?\\n📍Professional Services for Temporary Work Permit in UAE\\n📞 : +971 4 258 8800\\n🌍 : https://t.co/6cUhK3Y5DB\\nFind Us🔗 : https://t.co/xMgFohvM2z #amer_quickplus #visa #UAE #Dubai https://t.co/J7deqYHlWq', 'Are you a Visa Consultant?\\nVisa File Sop\\nRequest Free Demo Today!\\nhttps://t.co/qG2T4H46Vr\\nTo know more: +91-6353273120\\n#VisaBoard #visaconsultants #visa #B2Bportalforvisaconsultant #PortalForVisaConsultants #SOP #AppealLetter #freedemo #visaconsultancyservice https://t.co/U2r9mccMso', 'How many states are in the ETIAS list? More states are expected to be added to the ETIAS list… \\n\\nhttps://t.co/hn3uhIXzc2\\n\\n#schengen, #schengenvisa, #europe, #EU, #visa, #travel', \"Guess who is one of the top participants at the World Education Fair?\\n\\nDon't miss this opportunity. \\n\\nRegister now https://t.co/QWoHoEkR9W\\n\\n#studyabroad #studyincanada #wilfrid #wilfridlaurier #canadauniversity #canadavisa #education #fair #visa #studentvisa #edwiseinternational https://t.co/2GIopWHLUb\", \"Migrating your startup to a new country does seem like an uphill task.\\nWhat you may be thinking-\\nToo many documents to fill out\\nToo many forms to submit\\nToo many requirements to meet\\nIn reality, it's quite simple only with the right guidance\\n#startup #business #entrepreneur #visa https://t.co/hviDRRUU4w\", 'Is it common for a German Visa application to get denied the first time? A German visa is very… \\n\\nhttps://t.co/pQeGP5FJed\\n\\n#germany, #travel, #germanvisa, #visa, #schengenvisa, #schengen', 'Holders of UK #Refugee Travel Document don’t require #visa in order to travel to #Netherland! You were meant to update your #Traveldoc system by 24th or March, but you still illegally stopping people getting their flight! STOP THIS! @easyJet', 'In recent years, the world has seen a high demand for #australian visas...\\nWhat are the various #work and #skilled #visa options available for Australia? Click on link to read more...\\n\\nhttps://t.co/1YSy451Yvq\\n\\n#visalobby #immigration #employment #job #migration #latest https://t.co/Uv6qbGsf6K', 'Visa Scam | Visa Fraud | Motivation for Visa | Modus operands for visa | Crown Immigration\\n\\n#Fake #Visa #Precautions #Immigration #Consultant https://t.co/KPKiw6LUQf', '#Visit #Visa Not Valid For Hajj\\n\\n“#Hajj is allowed with a designated visit or to those who have legal #residency in the #kingdom,” the #ministry added, according to #Saudi news portal Ajel.\\n\\nhttps://t.co/cPYJMKFO6u', '👉\\xa0#Exchange #cryptocurrency, #fiat, and #stablecoins with real-time execution prices and low fees. Buy #crypto with a\\xa0#creditcard (#Visa, #Mastercard) and your #SEPA bank account\\xa0✅\\n\\nLet’s go🚀🚀🚀\\n\\nhttps://t.co/L5JTTQ56Wv\\n#earn #DeFI #YouHodlerPlatform #YouHodler #cryptowallet https://t.co/GLrb6obM9R', 'Want To Know About The 6 Reasons For Denial of #USA Visa? Check Out This Post - https://t.co/WbE10f0Wcq #Visa #education #overseas #study #Studyvisa https://t.co/QZTVkOA4ZN', 'ഉപരിപഠനം Canada-ൽ തിരഞ്ഞെടുക്കൂ\\nJoin with us for more details\\n\\nFor More Details\\n94 96 55 77 00\\n0487 244 50 40\\n#visavalley #studyabroad #Sweden #visa \\nhttps://t.co/fxauEfSmm0\\nhttps://t.co/EFUKYlKTkd\\nhttps://t.co/blYVo16kAp\\nhttps://t.co/MBRszI0q3N\\nhttps://t.co/lgdjRxcfHI https://t.co/Dz2QsBQQHe', \"'Set yourself free' might be their slogan, but @StarlingBank are starting to act like the legacy, redundant banks. They are restricting transfers to the https://t.co/vleaZdlHMj VISA top-up card. They are controlling YOUR money.\\n\\n@cryptocom #Crypto #btc #bankless #visa https://t.co/5qxRGH86H6\", '#Visa Fear and Greed Index is currently 35 - FEAR\\n\\n24h technical analysis index: 29 - STRONG SELL\\nRelative Strength Index #RSI: 23\\nCurrent #V price is 205.243599935925 usd\\n\\nLive analysis for $V and other top 100 #stocks https://t.co/gRDWMFZxnd', 'Everything you need to know about visas in the U.S.\\n\\nhttps://t.co/hnw5PY8KHr #student #visa #Election2022', 'You are now able to buy $KODI with your #VISA Credit/Debit Card, your #ApplePay and #GooglePay accounts. As well as in #PancakeSwap.\\n\\n#crypto #cryptocurrency #bsc #binance #bep20 #tokens #bsctoken #bscgem #100xgem #1000xgem #nft #pitchagency  #holding #hodler #defi #staking https://t.co/vLXN05hXMO', 'Germany\\nMasters &amp; Bachelor\\nVfs Appointment Available\\nCall For More Info☎️+91 981 1644 965, 981 1618 934 011-261 00 290\\n#Germany #Masters &amp; #Bachelor #appointment #Visa \\n#pmsvisawala #pms #PmsVisawala #PlusMarketingAndServices @pmsvisawala #pmsvisawala.com\\nhttps://t.co/pjKeaNNbMW https://t.co/2saoolhUUb', 'A Big Congratulations For Getting Canada Tourist Visa Approval\\nVisit us at :- https://t.co/feAPXuktf7\\nCall us at :- +91 8285552527\\n#CanadaTouristvisa #Visa #TouristvisaApprovals #Canada #canadavisa https://t.co/xlca11Nhjd', 'A Big Congratulations For Getting Canada Tourist Visa Approval\\nVisit us at :- https://t.co/feAPXu2k0Z\\nCall us at :- +91 8285552527\\n#CanadaTouristvisa #Visa #TouristvisaApprovals #Canada #canadavisa https://t.co/FlHWkqrSn0', 'What is the DACA initiative?\\n\\nDeferred Action for Childhood Arrivals (DACA) is a U.S. immigration policy that offers temporary protection to selected young undocumented immigrants from deportation and work authorization.\\n\\n#immigration #visa #laws #immigrationlawyer #immigrants https://t.co/ZOZO0VH5kP', 'Visa Scam | Visa Fraud | Motivation for Visa | Modus operands for visa | Crown Immigration\\n\\nCrown Immigration – +919780563753,+919599334052, +919780069402, +919599334053  delhi.cics@gmail.com\\n\\n #VisaScamCanada #VisaFraud #MotivationVisa #Visa #Immigration #Consultant #DelhiOffice https://t.co/eFzIqOo2m1', 'Kishida indicates entry rules on #foreigners to ease in June #visa #travel | The Asahi Shimbun: Breaking News, #Japan News and Analysis : The Asahi Shimbun https://t.co/TrfMQr6dsG', 'Hey #dogearmy! So who has already added their #DogeCard to Apple Pay? You can conveniently tap your phone anywhere #Visa is accepted and get #Dogecoin back on every purchase! https://t.co/QPoH2kjAGf', 'Study World (Since 2007)\\nCall/Whatsapp: 9023250250\\nApply Now: https://t.co/aw6KLEAUxq\\n#BeststudyvisaConsultantsPunjab\\n#studyoverseas #studyinaustralia #studyabroad #studyincanada #studyinuk #studyinusa #studyinnewzealand #visanews #visa #canada #australia #canadastudyvisa https://t.co/o9UJJvQPK2', 'Free Study in Germany  Germany visa  Study in Germany | Best consultant for Germany\\n\\nCrown Immigration – +919780563753,+919599334052, +919780069402, +919599334053  delhi.cics@gmail.com\\n\\n #FreeStudyinGermany #Masters #MBBS #BDS #Nursing #Visa #Immigration #Consultant #DelhiOffice https://t.co/u4qfAhn86O', 'Study Visa\\n* Canada\\n* Australia\\n* Europe\\n* Singapore\\n* USA\\n* UK\\nSep 22/ Jan 23 Intake.\\nLimited Seats.\\nHurry up.\\n.\\n.\\n.\\n.\\n\\xa0#visa #immigration #canada #studyabroad #ielts #travel #studentvisa #mastercard #australia #usa #studyvisa #studyincanada #study #cana…https://t.co/u9NLyE4dM6', 'Study in Greece\\n(Public Universities)\\n\\nStudy in Greece  Greece visa refused  Settlement in Greece | Greece visa expert | Crown Immigration\\n\\nCrown Immigration – +919780563753, +919599334052, \\n\\n #StudyinGreece #Visa #Immigration #Consultant #DelhiOffice\\nhttps://t.co/75KG5GC15G', 'BESTWAY 2 OVERSEAS\\nAPPLY FOR 🇨🇦 Canada 🇨🇦 MULTIPLE ENTRY TOURIST VISA.\\nApply your dream country visa.\\n#visa #visit #Multiple #immigrationconsultant\\ncall us : +91 8283860002 ,+91 8195984445, \\nBestway 2 Overseas\\nSCO 144-145 Top Floor Sec-34-A Chandigarh https://t.co/j47Bm0wGKl', 'BESTWAY 2 OVERSEAS\\nAPPLY FOR CANADA/USA/AUSTRALIA/UK MULTIPLE ENTRY TOURIST VISA.\\n#visa #visit #Multiple #immigrationconsultant\\ncall us : +91 8283860002 ,+91 8195984445, 01725070701\\nBestway 2 Overseas\\nSCO 144-145 Top Floor Sec-34-A Chandigarh\\nbestway2overseas@gmail.com https://t.co/RjitRV8fvY', 'BESTWAY 2 OVERSEAS\\nAPPLY FOR CANADA/USA/AUSTRALIA/UK MULTIPLE ENTRY TOURIST VISA.\\n#visa #visit #Multiple #immigrationconsultant\\ncall us : +91 8283860002 ,+91 8195984445, 01725070701\\nBestway 2 Overseas\\nSCO 144-145 Top Floor Sec-34-A Chandigarh\\n📧 sandeep@bestway2overseas.com https://t.co/Etawss03U9', 'BESTWAY 2 OVERSEAS\\nAPPLY USA STUDY VISA #visa #topuniversities #immigrationconsultant\\ncall us : +91 9815601254 +91 8283860002 ,+91 8195984445, 01725070701\\nBestway 2 Overseas\\nSCO 144-145 Top Floor Sec-34-A Chandigarh\\n📧 sandeep@bestway2overseas.com https://t.co/TB5YQ0B4DV', 'BESTWAY 2 OVERSEAS\\nAPPLY FOR USA / UK / AUSTRALIA / CANADA STUDY VISA #visa #tourism #touristvisa #immigrationconsultant\\ncall us : +91 9815601254 +91 8283860002 ,+91 8195984445, 01725070701\\nBestway 2 Overseas\\nSCO 144-145 Top Floor Sec-34-A Chandigarh\\nbestway2overseas@gmail.com https://t.co/qtp0CLKG30', 'BESTWAY 2 OVERSEAS\\nAPPLY FOR CANADA/USA/AUSTRALIA/UK MULTIPLE ENTRY TOURIST VISA.\\n#visa #visit #Multiple #immigrationconsultant\\ncall us : +91 8283860002 ,+91 8195984445, 01725070701\\nBestway 2 Overseas\\nSCO 144-145 Top Floor Sec-34-A Chandigarh https://t.co/NQHpu6TGIK', 'Are you looking for abroad opportunity ?\\n👉Education + Earning \\n👉6 month program + 6 month paid internship\\n👉Free counselling\\nhttps://t.co/bgOk7BbqWO\\nsince (2012)\\nContact us : +91 82201 29937 \\n#university #studentvisa #overseaseducation #studyoverseas #studyinaustralia\\n#visa https://t.co/PzjkORwvJe', 'Student visa application assistance\\n\\nSee More:-\\nhttps://t.co/ceygRQNBDP\\n.\\n.\\n.\\n.\\nWant to Study in Poland?\\n\\nRegister Now!\\nhttps://t.co/R0MbgZSPDd\\n \\nCall us for FREE Counseling.\\n\\n+48 729 650 461, WhatsApp : +48 579 253588\\noffice@studyinpoland.info\\n\\n@SIPTofficial \\n\\n#visa #polandvisa https://t.co/asNh6GmFSl', 'Tour to Thailand \\n\\nCustomized Packages\\n\\n.\\n.\\n.\\n.\\n.\\n.\\n.\\n.\\n.\\nFOR BOOKING CONTACT US\\n+92 51 2601658-59\\nfh@flair.com.pk\\nhttps://t.co/jT5Rqd3uJG\\n#TourswithFlair #Thailand #Visa #Holidays #Ticket #Packages https://t.co/s5FxwqItal', 'Travelling to Greece? Your no-hassle guide to the latest entry requirements\\nRead more: https://t.co/EvlCS77v2v\\nFor more information on #visa applications &amp; #Immigration pathways to #Greece contact @solicitors_sk at: https://t.co/bzgPSNAXuA or call 0803-418-8219 @GreeceMFA', 'Travelling to Greece? Your no-hassle guide to the latest entry requirements\\nRead more: https://t.co/233MNR27Vq\\nFor more information on #visa applications &amp; #Immigration pathways to #Greece contact @solicitors_sk at: https://t.co/iiiSYndbQZ or call 0803-418-8219 @GreeceMFA', 'contact  us for more details.....\\n91151-33153/91151-33513\\n#visa #visaconsultants #dreamcatcher #englishtips #englishlanguage #samana #canada🇨🇦 #visaconsultancy \\n.\\n.\\n.\\n#visaadvisory @afirstchoicevisaconsultancy \\n@public_college_samana__ \\n@samanayouth \\n@samanaresidence https://t.co/t4Vro3kxS2', 'Enjoy beauty of valleys in kashmir , breeze by Dal Lake, admist scenic peaks in gulmarg and many more. Take a memorable trip to kashmir with us. 🥳🥳🏔️🌄\\n\\n#travel #visa #tourist #packages #tickets #air #international #domestic #fare #quarantine #insurance #gtktravels. https://t.co/ipVe0Iw2Uk', 'Turkey tightens visa policy for Pakistanis.\\nhttps://t.co/NGBJjjw9IV \\n#digitalmore #pakistan #turkey #visa #travel https://t.co/6x33nW4mU0', \"Thinking of dual citizenship?\\nWhy not become a proud citizen of St. Lucia by Investment? \\nSt. Lucia's CIP program is ranked #1 in the Caribbean. \\nYour better future is just a call away \\nM +961 81 333539\\nhttps://t.co/VnJYC7LJoi\\n#visa #residency #carebian #saintlucisa #stkitts https://t.co/aGR9v3u8o1\", 'There are more than 10 universities in the UK that are accepting\\nDuolingo English test for Sept 22 intake.\\n\\n#EdgeInternational #OverseasEducation #StudyinUK #Student #Visa #InternationalStudents #Travel #Study #HigherEducation #Students #Immigration #UK #Scholarship https://t.co/8LdDUS8e0d', '#Mother stuck in #Ukraine says her five-month-old #daughter would have to #travel to #Moldova before being considered for a UK #visa', '#UnitedKingdom #homeoffice #delaying #Ukrainian #children escaping #WAR-torn Ukraine with #visa #redtape\\n\\n#RefugeesNeedHelp\\n#LocalElections22\\n\\nhttps://t.co/m0j5hWxO7g', '#Phishing #フィッシング対策協議会 @antiphishing_jp \\n#フィッシング詐欺 \\n\\nIP:23.95.229.129 \\n(AS 36352 @ColoCrossing )\\n\\n#VISA\\nhxxps://www.antiphishing-jp.com/update/upvlsa.php\\n\\n#MasterCard\\nhxxps://www.antiphishing-jp.com/update/upmatser.php\\n\\n@NaomiSuzuki_ @taku888infinity @tomoaxe https://t.co/ZjgnHUmJUu', '#HighPotentialIndividual #visa is expected to launch on May 30. Holders of this visa may come to the #UK to #work, be #selfemployed, #volunteer, or set up a #business without needing a job offer or #sponsorship.', 'Study in Greece | Greece visa refused | Settlement in Greece | Greece visa expert | Crown Immigration\\n\\n#Greece #Visa #Immigration #Consultant\\n\\nhttps://t.co/pw0vGnyMer', '✅Want to take your higher degree from abroad, from the best college and with the best lifestyle?\\n✅Hurry Up!! Apply now your Study Visa for abroad.\\n\\n📌Gap Acceptable\\n📌Talk with our Experts if you have any doubt\\n\\n𝐂𝐨𝐧𝐭𝐚𝐜𝐭 9888617955\\n\\n#studyincanada #australia #usa #visa https://t.co/AG3ZPoykGa', 'It’s easy to buy and sell crypto with @Netcoins  - sign up now with my link and you’ll get $60 once you trade $100 worth of cryptocurrency: https://t.co/ny8HmE5za5 \\n\\n#passiveincome #cryptovisa #visa #crypto #earnbtc #btc', 'GREAT News FOR PGWP CANDIDATES\\n\\nGET A NEW PERMIT FOR 18 MONTHS\\n\\n☎️ Contact Us\\n\\n9646129929\\n9815063340\\n9646129920\\n\\n#IELTS #uk #canada #usa #australia #Schengen\\n#VISA #newzealand #europe #pr #study\\n#tourism #sponsored #international #business\\n#parents #investment #best #instagram https://t.co/S5hjbGm6HV', 'Tips to acing your #visainterview. Convince the consular officer you deserve a visa. Contact @VresInter  for #visacounselling\\n👉🏾 [https://t.co/Xxvp50uQk4]\\n#VRES #internationaleducation #studyabroad #internationalstudents #students #travel #education #visa #studyvisa #visaservices https://t.co/ssTJ8SLDaG', \"Finally got a chance to check out Nozawa onsen and our customer's fantastic restaurant https://t.co/k4LZdYHmkq\\n#Acroseed #野沢温泉 #localbusiness #visa #長野\\u3000#Japan #Pizza https://t.co/hHAAFtaKuP\", 'How to apply for a German Visa and what is the next step if you application gets rejected? You will get… \\n\\nhttps://t.co/NrE04kFs4F\\n\\n#scholarship, #education, #visa, #studyabroad, #travel, #tourism', 'Are you looking for Schengen Tourist Visa ??🌎\\n\\nDo you want to travel your favourite Country ?\\n\\nWe have a solution for you ✈\\n\\n#schengen #visa #visit #schengenvisa #europe #travel #done  #visaconsultancy https://t.co/Xxg72bBZ8U', 'Looking to trade in #SouthAfrica? Don’t have a Legal Entity set up? Need help with #payrolling &amp; #onboarding staff? From finding scarce #talent to #visa advice, local #labour law expertise and quick integration, #LetUsDoTheWork.\\n\\n#ManpowerGroupSA https://t.co/yusYrAadV4', 'Do You Have Desire To Study Masters Outside India?\\nMake Your Desire To Reality This time! Study @Barcelona!\\nApply Now!\\n\\nJoin Us👇\\nFor More Info,\\n📞Contact Us@ 9846744222, 9526990444\\n #studybarcelona #barcelona  #scholarships #studyabroad #barcelonaspain #barcelonagram #visa https://t.co/I2YlrX7iCM', \"Can't wait to set foot at universities in New Zealand?\\n\\nGet in touch with Edwise today to commence the process.\\n\\n#newzealand #universities #nz #studyinnz #nzvisa #studyabroad #studyabroadlife #StudyAbroadConsultants #courses #visa #consultancy #application #edwiseinternational https://t.co/3ICt870H77\", \"❌ Don't shell out more money to pay your overstay fine.\\n✔ Visa Overstay Fine Payment at Minimal Service Charges\\n📞 : +971 4 258 8800\\n🌍 : https://t.co/6cUhK3Y5DB\\nFind Us\\n🔗 : https://t.co/xMgFohvM2z\\n#amer_quickplus #overstay #fine #immigrationconsultant #visa #Dubai   #UAE https://t.co/e8JWqrY6ar\", 'Can I get a job from an online course? The answer to this question is yes! Online courses are more likely than… \\n\\nhttps://t.co/Qz8nDR6U9d\\n\\n#studyabroad, #visa, #scholarship, #travel, #tourism, #education', 'The best and most affordable travel agency in Dubai is Forever Tourism. We are a leading travel agency in Dubai, offer best visa services for clients\\n\\n🌐https://t.co/DQiiCiNcWK\\n\\n#forevertourism #transitvisa #dubaivisa #dubai #uae #uaevisa #visa #touristvisa #visitvisa #visachange https://t.co/yPMNsZ04zp', 'Why is traveling so cheap in Europe if it is so popular? European countries are aware of their impact… \\n\\nhttps://t.co/no4JCAbRuX\\n\\n#schengen, #schengenvisa, #europe, #EU, #visa, #travel', \"🎓🇩🇪 Do you want to #study in #Germany?\\n\\n❗💡 Here's everything you need to know about:\\n\\n📇 Different types of student visas\\n📋 Application process\\n👍 Requirements\\n\\n ...and more #tips for your #visa application!\\n\\n#StudyInGermany #studentvisa #StudyAbroad\\n\\nhttps://t.co/KJdE9d8BhB\", 'Which city in Germany has the most abundance in art? Germany, and especially Berlin, is known as the center… \\n\\nhttps://t.co/0yFcedGzOS\\n\\n#germany, #travel, #germanvisa, #visa, #schengenvisa, #schengen', 'Where are most immigrants in the US from? The United States is known for its diverse population and for the many types of… \\n\\nhttps://t.co/QJHaCA7h6e\\n\\n#scholarship, #education, #travel, #studies, #tourism, #visa', '✈️✈️ Visit Cambodia NEXT as a Warm, Safe, Clean and Green Destination\\n#visitcambodiakingdomofwonderkh #cambodia #japan #travel #tourism #safe #warm #clean #green #vaccinated #visa https://t.co/h0BaU370ju', '@VFSGlobal @vfsglobalcare Raised the #VAYD request 4 times already and not a single callback yet! Dealing with #vfs this time has been nothing but traumatic @dhiren_savla #zubinkarkaria #jitenvyas @pranav_sinha9 #pranavsinha #Pathetic #customerservice #visa #VACNewDelhi https://t.co/DywYjf3iWC', 'With these best VPNs for #Visa #MalaysianVPN and #CyberserverVPN! Subscribe and save a whopping 20 pesosity.', 'Canadian employers continue to hire and hire skilled labour worldwide, and there are many ways to obtain a work permit. #Canadian #visa #visayab #Immigration https://t.co/LEkbJnTM99', 'P32 Denver CO Area Giveaways Sweepstakes Contests Special Offers Coupons Free Gas Gift Cards Amazon Fun Freebies Win Cash Money Big Prizes PS5 Oculus Quest Samsung Galaxy More img532\\n#visa #promos #offers #denver #eire #lakewood #weather https://t.co/nTSRxcsGuJ', 'https://t.co/rth7oTR8H1 BULLISH!!!! #Saitama #visa', 'The SkillSelect system will allocate points for partner relationship status as follows:\\n• Single      –      10 points\\n• Engaged –      10 points\\n• Married   –        0 points\\n• De Facto –        0 points\\n #australia #partner #relationship #single #engaged #married #visa https://t.co/lHnFFDCOtx', \"@PixelPets3 It's so easy to buy $BSV with #VISA or #Mastercard using #HandCash 😎\\nhttps://t.co/pERLYwU2rs\"]\n"
     ]
    }
   ],
   "source": [
    "\n",
    "#print(tesla_Scrapper.get(clean_data=False))"
   ]
  },
  {
   "cell_type": "code",
   "execution_count": 43,
   "id": "23a49527",
   "metadata": {},
   "outputs": [
    {
     "data": {
      "text/plain": [
       "['currently safe enough used sole authentication method secure device irisrecognition iphone apple faceid watchguardtechnologies codebreaker thenameoftherose facialrecognition isoiec jtc sc',\n",
       " 'apple settled class action lawsuit accused throttling iphone io update',\n",
       " 'standard bedroom flat peace drive estate tank junction via pastortundebakare israel endsars apple cotonou umahi rap benin cancer portharcourt hellno ipob pfizerdocuments niger igbo rihanna houseofthedragon',\n",
       " 'apple mac factory reset recovery process requires wired keyboard wired mouse please add support bluetooth keyboard mouse recovery software user click continue button apple mac',\n",
       " 'automated hourly aapl sentiment report product series review iphones mac macbook ipad applewatch macos io general apple product company news social medium utc',\n",
       " 'apple google microsoft mix effort towards passwordless logins alphabet apple google macbooks microsoft mobile technews technology window',\n",
       " 'dino maker make dinos level share indiegame gamedev indiedev retro indievideogames io indiegames videogames apple io indiegamedev mariomaker mario maker get iphone ipad',\n",
       " 'apple talk place get daily news feed apple world get lates rumor guide hit follow button appletalk applenews apple iphone io follow followme retweet retweetplease',\n",
       " 'twitter testing new conversation thread button space seo google apple io cybersecurity robotics iot ai software telecom twitter continues enhance space live audio platform new feature social netw',\n",
       " 'intel pull time applewatch apple',\n",
       " 'give le give obianuju giftcard itunes ebay amazon apple vanilla ethereum naira',\n",
       " 'despite epic apple battle fortnite officially back iphone arstechnica',\n",
       " 'recycling greenhouse gas biotechnology seo google apple io cybersecurity robotics iot ai software telecom may nanowerk news acetone isopropanol important chemical industry used pro',\n",
       " 'macos monterey heading way soon jam packed new exciting feature improvement however big macos release complete without setback specific user macosmonterey apple',\n",
       " 'apple may holy grail podcasts harm take look spotify google offer either click socialmedia apple applepodcast podcast socialmediamarketing',\n",
       " 'blue galaxy cloud steve wade swade galaxy ultra artscase artsmakers artscase art phonecases iphonecases iphone galaxy apple samsung',\n",
       " 'one faves soundtrack underdog telling quit latest short apple love working vivienne well know',\n",
       " 'target accept apple pay use apple pay target applepay applepayattarget targetacceptapplepay tnt',\n",
       " 'omniscient digital increase share voice zero drive podcast downloads seo google apple io cybersecurity robotics iot ai software telecom omniscient digital amp long game podcastomniscient digital premi',\n",
       " 'considering trading older apple device upgrade apple lowered trade value may want check bestbuy see get better deal traded mac mini bestbuy apple direct month ago',\n",
       " 'apple google microsoft commit expanded support fido standard accelerate availability passwordless sign in',\n",
       " 'wbcsd member news apple expands use recycled material across product',\n",
       " 'fortnite back apple io device free via xbox cloud gaming',\n",
       " 'brainkids educative game available apple app store google play jeu video kid learn alphabet number word sound color listen pronunciation language fun educational game u uk french deutsh spain italian',\n",
       " 'apple google microsoft plan expand support password le standard microsoft google apple via',\n",
       " 'available stream spotify apple platform link bio go listen trans transgender transkings transman ttimepodcastuk transpodcast podcast podcasts apple spotify',\n",
       " 'google microsoft apple promoting idea need keep entering password anymore soon able use login browser via',\n",
       " 'amp giving away free gift card apple new tech emergingtechnology apple',\n",
       " 'class session apple got trillion market cap year bitcoin reached trillion year many year would take dogecoin get trillion market cap btc doge ethereum',\n",
       " 'machine gun kelly night worktime india thursdayvibes apple night peaceout',\n",
       " 'scribaland strange country troll away folklore real chill limited cold cold sweat chilling beware feel cold numerique mobile youscribe youtube facebook twitter instagram google apple appletv',\n",
       " 'rt rtsinfo tech giant google apple microsoft thursday announced agreement build system build system translated using microsoftflow',\n",
       " 'windowed tree fitted shirt old hdr photo taken leederville given new life surrealism nature magritte surreal weird renemagritte man dali cool colorful green apple summer',\n",
       " 'apple order season two historical drama pachinko pachinko apple drama historical order season technology two',\n",
       " 'apple order season two historical drama pachinko pachinko apple drama historical order season technology two',\n",
       " 'shifted android apple iphone damn fuckiin good amp compare phone amp never got issue took purple pretty colour loved much thanks apple gadget',\n",
       " 'honest iphone till future till full touch screen look like iphone apple iphone',\n",
       " 'farted apple store everyone got pissed fault window',\n",
       " 'man fucked around lost main backup pair airpods day sick find airpods worthless apple airpods',\n",
       " 'connect airpods window airpods airpods airpods airpodspro airpodsgen window window tutorial tutorial window apple',\n",
       " 'apple deploys million entrepreneur via social good fintech cnote finextra research fintech apple',\n",
       " 'beautiful bedroom toilet water heater fenced gate ashewogroup bloodsisters mauritania endsars apple cotonou ekiti rap benin phtwittercommunity cancer portharcourt nysc sterling bobrisky shinapeller niger via',\n",
       " 'need help deppvsheard amberheardlsaliar justiceforjohnny istandwithjohnnydepp apple amberturd',\n",
       " 'updated webpage great article check special thanks apple probono',\n",
       " 'apple showcase latest innovation one thing event digital trend technology',\n",
       " 'scp arcade great game app challenge anyone pvp matchup download indiegame gamedev indiedev retro indievideogames io indiegames videogames apple io indiegamedev',\n",
       " 'latest episode body bag joseph scott morgan apple lindquist triple murder',\n",
       " 'like want see texan try sue amazon apple major corporation aiding employee good luck',\n",
       " 'saitama early internet early apple early amazon',\n",
       " 'windowed tree fitted shirt old hdr photo taken leederville given new life surrealism nature magritte surreal weird renemagritte man dali cool colorful green apple summer',\n",
       " 'windowed tree fitted shirt old hdr photo taken leederville given new life surrealism nature magritte surreal weird renemagritte man dali cool colorful green apple summer',\n",
       " 'apple provider halt iphone production due covid associated restriction china iphone launch delayed apple macbooks technews technology appleiphone appleiphone',\n",
       " 'everything still come apple',\n",
       " 'download erase invader average retro inspired game let chaos begin indiegame gamedev indiedev retro classic indievideogames io indiegames videogames apple io indiegamedev',\n",
       " 'mac mini price tracker real time price mac apple macmini',\n",
       " 'apple music sometimes replacing apps dock installed app store mr',\n",
       " 'ieee plan help combat climate change seo google apple io cybersecurity robotics iot ai software telecom ieee board director formed ad hoc committee climate change february coordinate response global',\n",
       " 'apple need work studio make anime appletvplus bet quality gonna insane',\n",
       " 'brainkids educative game available apple app store google play jeu video kid learn alphabet number word sound color listen pronunciation language fun educational game u uk french deutsh spain italian',\n",
       " 'future left lie ahead seo google apple io cybersecurity robotics iot ai software telecom deployment well underway around world technology beginning shift fir',\n",
       " 'gorpee kong classic platforming hilarity anarchy island indiegame gamedev indiedev retro indievideogames io indiegames videogames apple io indiegamedev megaman play iphone ipad',\n",
       " 'clean home produce vibe livingthedream songwriter musicproducer beatmaking apple macmini logitech',\n",
       " 'play fortnite iphone sort seo google apple io cybersecurity robotics iot ai software telecom well known apple kicked fortnite app store game creator epic game flouted app store guid',\n",
       " 'lol fb pointing finger aapl stock stockmarket meta facebook apple',\n",
       " 'apple fear greed index currently strong fear technical analysis index strong sell relative strength index rsi current aapl price usd live analysis aapl top stock',\n",
       " 'openai leadership team update seo google apple io cybersecurity robotics iot ai software telecom greg brockman becoming president new role reflects unique combination personal coding contribution',\n",
       " 'iphone io golden day apple jailbreak redsn',\n",
       " 'latest innovation daily thanks space apple',\n",
       " 'guideline using data analytics finding right price point seo google apple io cybersecurity robotics iot ai software telecom data analytics technology helping business boost profitability many way ye',\n",
       " 'apple patent describes ipad keyboard mac o like ui mac apple ipad macos',\n",
       " 'apple time collection fun colorful design customize',\n",
       " 'cool phone wallpaper get iphone xiaomi apple wallpaper samsunggalaxy',\n",
       " 'apple ipad price tracker real time price sale ipad apple io',\n",
       " 'perfect pilot jun galaxy note artscase artsmakers artscase art phonecases iphonecases iphone galaxy apple samsung',\n",
       " 'manage alexa voice recording privacy seo google apple io cybersecurity robotics iot ai software telecom view delete past alexa recording preserve privacy lance whitney show',\n",
       " 'apple google microsoft plan expand support password le standard microsoft google apple',\n",
       " 'proprietary opensource aside competition might apple approach flawed emergingtech digitaltransformation tech payment mobile',\n",
       " 'verizon skyward closed drone software business seo google apple io cybersecurity robotics iot ai software telecom news came surprise customer partner verizon skyward closed drone software busi',\n",
       " 'scribaland strange country troll away folklore real chill limited cold cold sweat chilling beware feel cold amazonbooks amazonkindle amazonprime amazonvideo apple appleadvertising applebooks ecriture',\n",
       " 'super game talk video alpha indie video game review show hosted puppet indiegame gamedev indiedev indievideogames marketing indiegames videogames apple io steam',\n",
       " 'download erase invader average retro inspired game let chaos begin indiegame gamedev indiedev retro classic indievideogames io indiegames videogames apple io indiegamedev',\n",
       " 'validate io app bundle without uploading app store seo google apple io cybersecurity robotics iot ai software telecom upload io app app store validates bundle sends email',\n",
       " 'mac mini gb gb refurbished apple save free ship yr warranty',\n",
       " 'newly built bedroom flat rent golden spring estate ashewogroup bloodsisters mauritania endsars apple cotonou ekiti rap benin phtwittercommunity cancer portharcourt nysc sterling bobrisky shinapeller niger via']"
      ]
     },
     "execution_count": 43,
     "metadata": {},
     "output_type": "execute_result"
    }
   ],
   "source": [
    "apple_Scrapper.get()"
   ]
  },
  {
   "cell_type": "code",
   "execution_count": null,
   "id": "366a83f6",
   "metadata": {},
   "outputs": [],
   "source": []
  },
  {
   "cell_type": "code",
   "execution_count": null,
   "id": "4e94e791",
   "metadata": {},
   "outputs": [],
   "source": []
  }
 ],
 "metadata": {
  "kernelspec": {
   "display_name": "Python 3 (ipykernel)",
   "language": "python",
   "name": "python3"
  },
  "language_info": {
   "codemirror_mode": {
    "name": "ipython",
    "version": 3
   },
   "file_extension": ".py",
   "mimetype": "text/x-python",
   "name": "python",
   "nbconvert_exporter": "python",
   "pygments_lexer": "ipython3",
   "version": "3.9.7"
  }
 },
 "nbformat": 4,
 "nbformat_minor": 5
}
